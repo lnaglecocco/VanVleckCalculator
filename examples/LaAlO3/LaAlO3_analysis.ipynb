{
 "cells": [
  {
   "cell_type": "markdown",
   "id": "6429410c",
   "metadata": {},
   "source": [
    "# LaAlO$_3$ - analysis of octahedral distortion with VanVleckCalculator\n",
    "\n",
    "Here, we use data from the following paper:\n",
    "\n",
    "Hayward, S. A., et al. \"Transformation processes in LaAlO$_3$: Neutron diffraction, dielectric, thermal, optical, and Raman studies.\" Physical Review B 72.5 (2005): 054110."
   ]
  },
  {
   "cell_type": "code",
   "execution_count": null,
   "id": "bee75d5a",
   "metadata": {},
   "outputs": [],
   "source": [
    "import pymatgen as pymatgen\n",
    "from pymatgen.core.structure import Structure\n",
    "import os\n",
    "import pandas as pd"
   ]
  },
  {
   "cell_type": "code",
   "execution_count": null,
   "id": "6694a766",
   "metadata": {},
   "outputs": [],
   "source": [
    "pd.set_option('display.max_rows', 500)\n",
    "pd.set_option('display.max_columns', 500)"
   ]
  },
  {
   "cell_type": "code",
   "execution_count": null,
   "id": "5249fe63",
   "metadata": {},
   "outputs": [],
   "source": [
    "import sys\n",
    "sys.path.insert(1,r\"..\\code\")\n",
    "from van_vleck_calculator import *"
   ]
  },
  {
   "cell_type": "markdown",
   "id": "7d158a49",
   "metadata": {},
   "source": [
    "## Import structures from CIFs"
   ]
  },
  {
   "cell_type": "code",
   "execution_count": null,
   "id": "e774feeb",
   "metadata": {},
   "outputs": [],
   "source": [
    "filenames = [i for i in os.listdir() if \".cif\" in i]"
   ]
  },
  {
   "cell_type": "code",
   "execution_count": null,
   "id": "766b2c2a",
   "metadata": {},
   "outputs": [],
   "source": [
    "def obtain_temp_from_filename(filename):\n",
    "    main_name = filename[:-4]\n",
    "    temp_str = main_name.replace(\"cubic\",\"\").replace(\"_\",\"\").replace(\"K\",\"\").replace(\"rhom\",\"\")\n",
    "    return(float(temp_str))"
   ]
  },
  {
   "cell_type": "code",
   "execution_count": null,
   "id": "1f2a4f84",
   "metadata": {},
   "outputs": [],
   "source": [
    "temperatures = [obtain_temp_from_filename(filename) for filename in filenames]"
   ]
  },
  {
   "cell_type": "code",
   "execution_count": null,
   "id": "6b71d29b",
   "metadata": {},
   "outputs": [],
   "source": [
    "filenames = [x for _, x in sorted(zip(temperatures, filenames))]\n",
    "temperatures = sorted(temperatures)"
   ]
  },
  {
   "cell_type": "code",
   "execution_count": null,
   "id": "f63d8a2c",
   "metadata": {},
   "outputs": [],
   "source": [
    "structures = [Structure.from_file(i) for i in filenames]"
   ]
  },
  {
   "cell_type": "markdown",
   "id": "fe375e02",
   "metadata": {},
   "source": [
    "## Create octahedra"
   ]
  },
  {
   "cell_type": "code",
   "execution_count": null,
   "id": "1b00a559",
   "metadata": {},
   "outputs": [],
   "source": [
    "octahedra_objects = []\n",
    "for i in range(0,len(structures)):\n",
    "    sites = [j for j in structures[i] if \"Al\" in str(j.specie)]\n",
    "    site = sites[0]\n",
    "    local_oct = Octahedron(site,structures[i],possible_ligands=[\"O\"])\n",
    "    octahedra_objects.append(local_oct)"
   ]
  },
  {
   "cell_type": "markdown",
   "id": "e8545f53",
   "metadata": {},
   "source": [
    "## Analyse data"
   ]
  },
  {
   "cell_type": "code",
   "execution_count": null,
   "id": "0d67b9d5",
   "metadata": {},
   "outputs": [],
   "source": [
    "octahedral_volume = []\n",
    "\n",
    "Q2_from_Al = []\n",
    "Q3_from_Al = []\n",
    "Q4_from_Al = []\n",
    "Q5_from_Al = []\n",
    "Q6_from_Al = []\n",
    "\n",
    "Q2_from_av_pos = []\n",
    "Q3_from_av_pos = []\n",
    "Q4_from_av_pos = []\n",
    "Q5_from_av_pos = []\n",
    "Q6_from_av_pos = []\n",
    "\n",
    "rho_from_Al = []\n",
    "rho_from_av_pos = []\n",
    "\n",
    "BLDI_from_Al = []\n",
    "BLDI_from_av_pos = []\n",
    "\n",
    "ECoN = []\n",
    "QuadElon = []\n",
    "BAV = []\n",
    "\n",
    "pJT_dist = []\n",
    "pJT_metric = []\n",
    "\n",
    "delta_shear = []\n",
    "delta_antishear = []\n",
    "shear_fraction_from_Al = []\n",
    "shear_fraction_from_av_pos = []"
   ]
  },
  {
   "cell_type": "code",
   "execution_count": null,
   "id": "094944f0",
   "metadata": {},
   "outputs": [],
   "source": [
    "for i in range(0,len(octahedra_objects)):\n",
    "    octahedron = octahedra_objects[i]\n",
    "    \n",
    "    octahedral_volume.append(octahedron.volume)\n",
    "    \n",
    "    modes_from_Al = octahedron.calculate_van_vleck_distortion_modes(octahedral_centre=\"core_atom\")\n",
    "    modes_av_pos = octahedron.calculate_van_vleck_distortion_modes(octahedral_centre=\"average_ligand_position\")\n",
    "    \n",
    "    Q2_from_Al.append(modes_from_Al[1])\n",
    "    Q3_from_Al.append(modes_from_Al[2])\n",
    "    Q4_from_Al.append(modes_from_Al[3])\n",
    "    Q5_from_Al.append(modes_from_Al[4])\n",
    "    Q6_from_Al.append(modes_from_Al[5])\n",
    "    \n",
    "    Q2_from_av_pos.append(modes_av_pos[1])\n",
    "    Q3_from_av_pos.append(modes_av_pos[2])\n",
    "    Q4_from_av_pos.append(modes_av_pos[3])\n",
    "    Q5_from_av_pos.append(modes_av_pos[4])\n",
    "    Q6_from_av_pos.append(modes_av_pos[5])\n",
    "    \n",
    "    rho_from_Al.append(\n",
    "        octahedron.calculate_van_vleck_jahn_teller_params(octahedral_centre=\"core_atom\")[0]\n",
    "    )\n",
    "    rho_from_av_pos.append(\n",
    "        octahedron.calculate_van_vleck_jahn_teller_params(octahedral_centre=\"average_ligand_position\")[0]\n",
    "    )\n",
    "    \n",
    "    BLDI_from_Al.append(\n",
    "        octahedron.calculate_bond_length_distortion_index(octahedral_centre=\"core_atom\")\n",
    "    )\n",
    "    BLDI_from_av_pos.append(\n",
    "        octahedron.calculate_bond_length_distortion_index(octahedral_centre=\"average_ligand_position\")\n",
    "    )\n",
    "\n",
    "    ECoN.append(octahedron.calculate_effective_coordination_number())\n",
    "    QuadElon.append(octahedron.calculate_quadratic_elongation())\n",
    "    BAV.append(octahedron.calculate_bond_angle_variance(degrees=True))\n",
    "\n",
    "    pJT_dist.append(octahedron.calculate_off_centering_distance())\n",
    "    pJT_metric.append(octahedron.calculate_off_centering_metric())\n",
    "    \n",
    "    delta_shear.append(\n",
    "        octahedron.calculate_angular_shear_magnitude(octahedral_centre=\"average_ligand_position\")\n",
    "    )\n",
    "    \n",
    "    delta_antishear.append(\n",
    "        octahedron.calculate_angular_antishear_magnitude(octahedral_centre=\"average_ligand_position\")\n",
    "    )\n",
    "\n",
    "    shear_fraction_from_Al.append(\n",
    "        octahedron.calculate_shear_fraction_angular_distortion(octahedral_centre=\"core_atom\")\n",
    "    )\n",
    "    shear_fraction_from_av_pos.append(\n",
    "        octahedron.calculate_shear_fraction_angular_distortion(octahedral_centre=\"average_ligand_position\")\n",
    "    )"
   ]
  },
  {
   "cell_type": "code",
   "execution_count": null,
   "id": "641b7e44",
   "metadata": {},
   "outputs": [],
   "source": [
    "df = pd.DataFrame(\n",
    "    {\n",
    "        \"Temperature (K)\":temperatures,\n",
    "        \"Octahedral volume (Å^3)\":octahedral_volume,\n",
    "#         \"BLDI from Al\":BLDI_from_Al,\n",
    "        \"BLDI from av. pos.\":BLDI_from_av_pos,\n",
    "        \"Effective coordination number\":ECoN,\n",
    "        \"Quadratic elongation\":QuadElon,\n",
    "        \"Bond angle variance (°^2)\":BAV,\n",
    "#         \"Q2 from Al (Å)\":Q2_from_Al,\n",
    "        \"Q2 from av. pos. (Å)\":Q2_from_av_pos,\n",
    "#         \"Q3 from Al (Å)\":Q3_from_Al,\n",
    "        \"Q3 from av. pos. (Å)\":Q3_from_av_pos,\n",
    "#         \"Q4 from Al (Å)\":Q4_from_Al,\n",
    "        \"Q4 from av. pos. (Å)\":Q4_from_av_pos,\n",
    "#         \"Q5 from Al (Å)\":Q5_from_Al,\n",
    "        \"Q5 from av. pos. (Å)\":Q5_from_av_pos,\n",
    "#         \"Q6 from Al (Å)\":Q6_from_Al,\n",
    "        \"Q6 from av. pos. (Å)\":Q6_from_av_pos,\n",
    "#         \"ρ from Al (Å)\":rho_from_Al,\n",
    "        \"ρ from av. pos. (Å)\":rho_from_av_pos,\n",
    "#         \"off-centering distance (Å)\":pJT_dist,\n",
    "#         \"off-centering metric (Å)\":pJT_metric,\n",
    "#         \"η from Al (Å)\":shear_fraction_from_Al,\n",
    "        \"angular shear (°)\":delta_shear,\n",
    "        \"angular antishear (°)\":delta_antishear,\n",
    "        \"η from av. pos. (Å)\":shear_fraction_from_av_pos,\n",
    "    }\n",
    ")"
   ]
  },
  {
   "cell_type": "markdown",
   "id": "9844254c",
   "metadata": {},
   "source": [
    "## Print table with Pandas"
   ]
  },
  {
   "cell_type": "code",
   "execution_count": null,
   "id": "5eb0270b",
   "metadata": {},
   "outputs": [],
   "source": [
    "df"
   ]
  },
  {
   "cell_type": "code",
   "execution_count": null,
   "id": "e13f5047",
   "metadata": {},
   "outputs": [],
   "source": [
    "print(df.to_latex(index=False,\n",
    "                  formatters={\"name\": str.upper},\n",
    "                  float_format=\"{:.3f}\".format))"
   ]
  }
 ],
 "metadata": {
  "kernelspec": {
   "display_name": "materials-analysis",
   "language": "python",
   "name": "materials-analysis"
  },
  "language_info": {
   "codemirror_mode": {
    "name": "ipython",
    "version": 3
   },
   "file_extension": ".py",
   "mimetype": "text/x-python",
   "name": "python",
   "nbconvert_exporter": "python",
   "pygments_lexer": "ipython3",
   "version": "3.10.6"
  }
 },
 "nbformat": 4,
 "nbformat_minor": 5
}
