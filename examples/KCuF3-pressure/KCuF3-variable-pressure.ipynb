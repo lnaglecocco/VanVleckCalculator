{
 "cells": [
  {
   "cell_type": "markdown",
   "id": "chemical-elder",
   "metadata": {},
   "source": [
    "# Jahn-Teller distortion with pressure in KCuF$_3$"
   ]
  },
  {
   "cell_type": "markdown",
   "id": "0c5aca6c",
   "metadata": {},
   "source": [
    "In this example, we are studying variable-pressure diffraction data in KCuF$_3$, previously published in Zhou, et al. \"Jahn–Teller distortion in perovskite KCuF$_3$ under high pressure\", Journal of Fluorine Chemistry, 2011"
   ]
  },
  {
   "cell_type": "markdown",
   "id": "b53b6e01",
   "metadata": {},
   "source": [
    "## Import packages "
   ]
  },
  {
   "cell_type": "code",
   "execution_count": null,
   "id": "swedish-running",
   "metadata": {},
   "outputs": [],
   "source": [
    "import numpy as np\n",
    "import matplotlib.pyplot as plt\n",
    "import pymatgen\n",
    "import sys\n",
    "import os\n",
    "import pandas as pd"
   ]
  },
  {
   "cell_type": "code",
   "execution_count": null,
   "id": "597e57e1",
   "metadata": {},
   "outputs": [],
   "source": [
    "pd.set_option('display.max_rows', 500)\n",
    "pd.set_option('display.max_columns', 500)"
   ]
  },
  {
   "cell_type": "code",
   "execution_count": null,
   "id": "9b64ad06",
   "metadata": {},
   "outputs": [],
   "source": [
    "sys.path.insert(0,r\"..\\code\")\n",
    "from van_vleck_calculator import *"
   ]
  },
  {
   "cell_type": "code",
   "execution_count": null,
   "id": "c11e3035",
   "metadata": {},
   "outputs": [],
   "source": [
    "%matplotlib notebook"
   ]
  },
  {
   "cell_type": "markdown",
   "id": "ba3e03c7",
   "metadata": {},
   "source": [
    "## Import structures from Rietveld refinement"
   ]
  },
  {
   "cell_type": "code",
   "execution_count": null,
   "id": "racial-paintball",
   "metadata": {},
   "outputs": [],
   "source": [
    "filenames = [i for i in os.listdir() if i[-3:]=='cif']"
   ]
  },
  {
   "cell_type": "code",
   "execution_count": null,
   "id": "superior-argument",
   "metadata": {},
   "outputs": [],
   "source": [
    "from pymatgen.core.structure import Structure\n",
    "\n",
    "strucs = [Structure.from_file(i) for i in filenames]"
   ]
  },
  {
   "cell_type": "code",
   "execution_count": null,
   "id": "c4d30fb9",
   "metadata": {},
   "outputs": [],
   "source": [
    "pressure = [i/1000.0 for i in [0.101325, 800, 1300, 2500, 3500, 4500, 5500, 6500, 8000]] # units are GPa"
   ]
  },
  {
   "cell_type": "markdown",
   "id": "39c4fc29",
   "metadata": {},
   "source": [
    "## Prepare data"
   ]
  },
  {
   "cell_type": "code",
   "execution_count": null,
   "id": "04ad85b0",
   "metadata": {},
   "outputs": [],
   "source": [
    "octahedral_volume = []\n",
    "\n",
    "Q2_kanamori = []\n",
    "Q3_kanamori = []\n",
    "\n",
    "Q2 = []\n",
    "Q3 = []\n",
    "Q4 = []\n",
    "Q5 = []\n",
    "Q6 = []\n",
    "\n",
    "phi = []\n",
    "rho = []\n",
    "\n",
    "BLDI = []\n",
    "ECoN = []\n",
    "QuadElon = []\n",
    "BAV = []\n",
    "\n",
    "pJT_dist = []\n",
    "pJT_metric = []\n",
    "\n",
    "delta_shear = []\n",
    "delta_antishear = []\n",
    "shear_fraction = []"
   ]
  },
  {
   "cell_type": "code",
   "execution_count": null,
   "id": "communist-governor",
   "metadata": {},
   "outputs": [],
   "source": [
    "for i in range(len(strucs)):\n",
    "    \n",
    "    oct1 = Octahedron(strucs[i][5],strucs[i],possible_ligands=[\"F\"])\n",
    "    \n",
    "    octahedral_volume.append(oct1.volume)\n",
    "    \n",
    "    van_vleck_modes_no_angular_distortion = oct1.calculate_van_vleck_distortion_modes(\n",
    "        output_pairs = False,\n",
    "        ignore_angular_distortion = True\n",
    "    )\n",
    "    Q2_kanamori.append(van_vleck_modes_no_angular_distortion[1])\n",
    "    Q3_kanamori.append(van_vleck_modes_no_angular_distortion[2])\n",
    "    \n",
    "    van_vleck_modes = oct1.calculate_van_vleck_distortion_modes(output_pairs = False)\n",
    "    Q2.append(van_vleck_modes[1])\n",
    "    Q3.append(van_vleck_modes[2])\n",
    "    Q4.append(van_vleck_modes[3])\n",
    "    Q5.append(van_vleck_modes[4])\n",
    "    Q6.append(van_vleck_modes[5])\n",
    "    \n",
    "    JT_params = oct1.calculate_van_vleck_jahn_teller_params(output_pairs = False)\n",
    "    phi.append(JT_params[1])\n",
    "    rho.append(JT_params[0])\n",
    "    \n",
    "    BLDI.append(\n",
    "        oct1.calculate_bond_length_distortion_index()\n",
    "    )\n",
    "    ECoN.append(\n",
    "        oct1.calculate_effective_coordination_number()\n",
    "    )\n",
    "    QuadElon.append(\n",
    "        oct1.calculate_quadratic_elongation()\n",
    "    )\n",
    "    BAV.append(\n",
    "        oct1.calculate_bond_angle_variance()\n",
    "    )\n",
    "    \n",
    "    pJT_dist.append(\n",
    "        oct1.calculate_off_centering_distance()\n",
    "    )\n",
    "    pJT_metric.append(\n",
    "        oct1.calculate_off_centering_metric()\n",
    "    )\n",
    "\n",
    "    delta_shear.append(\n",
    "        oct1.calculate_angular_shear_magnitude()\n",
    "    )\n",
    "    \n",
    "    delta_antishear.append(\n",
    "        oct1.calculate_angular_antishear_magnitude()\n",
    "    )\n",
    "    \n",
    "    shear_fraction.append(\n",
    "        oct1.calculate_shear_fraction_angular_distortion()\n",
    "    )"
   ]
  },
  {
   "cell_type": "code",
   "execution_count": null,
   "id": "37803784",
   "metadata": {},
   "outputs": [],
   "source": [
    "df = pd.DataFrame(\n",
    "    {\n",
    "        \"P (GPa)\":pressure,\n",
    "        \"Octahedral volume (Å^3)\":octahedral_volume,\n",
    "        \"BLDI\":BLDI,\n",
    "        \"ECoN\":ECoN,\n",
    "        \"QuadElon\":QuadElon,\n",
    "        \"Bond angle variance (°^2)\":BAV,\n",
    "#         \"Q_2 (Å) [ignore angular distortion]\":Q2_kanamori,\n",
    "        \"Q_2 (Å)\":Q2,\n",
    "#         \"Q_3 (Å) [ignore angular distortion]\":Q3_kanamori,\n",
    "        \"Q_3 (Å)\":Q3,\n",
    "        \"Q_4 (Å)\":Q4,\n",
    "        \"Q_5 (Å)\":Q5,\n",
    "        \"Q_6 (Å)\":Q6,\n",
    "        \"ρ (Å)\":rho,\n",
    "        \"φ (°)\":phi,\n",
    "#         \"off-centering distance (Å)\":pJT_dist,\n",
    "#         \"off-centering metric (Å)\":pJT_metric,\n",
    "        \"angular shear (°)\":delta_shear,\n",
    "        \"angular antishear (°)\":delta_antishear,\n",
    "        \"η\":shear_fraction,\n",
    "    }\n",
    ")"
   ]
  },
  {
   "cell_type": "markdown",
   "id": "b756b3aa",
   "metadata": {},
   "source": [
    "## Check rotation is successful\n",
    "\n",
    "Note: here, the rotation can be judged to have worked if the points are as close as possible to the x-, y-, and z- axes."
   ]
  },
  {
   "cell_type": "code",
   "execution_count": null,
   "id": "ccffdbb1",
   "metadata": {},
   "outputs": [],
   "source": [
    "Octahedron(strucs[0][5],strucs[0]).visualise_sites_for_van_vleck()"
   ]
  },
  {
   "cell_type": "markdown",
   "id": "57506a5b",
   "metadata": {},
   "source": [
    "## print data"
   ]
  },
  {
   "cell_type": "code",
   "execution_count": null,
   "id": "a3487608",
   "metadata": {},
   "outputs": [],
   "source": [
    "df"
   ]
  },
  {
   "cell_type": "code",
   "execution_count": null,
   "id": "5d59c86c",
   "metadata": {},
   "outputs": [],
   "source": [
    "print(df.to_latex(index=False,\n",
    "                  formatters={\"name\": str.upper},\n",
    "                  float_format=\"{:.3f}\".format))"
   ]
  }
 ],
 "metadata": {
  "kernelspec": {
   "display_name": "materials-analysis",
   "language": "python",
   "name": "materials-analysis"
  },
  "language_info": {
   "codemirror_mode": {
    "name": "ipython",
    "version": 3
   },
   "file_extension": ".py",
   "mimetype": "text/x-python",
   "name": "python",
   "nbconvert_exporter": "python",
   "pygments_lexer": "ipython3",
   "version": "3.10.6"
  }
 },
 "nbformat": 4,
 "nbformat_minor": 5
}
