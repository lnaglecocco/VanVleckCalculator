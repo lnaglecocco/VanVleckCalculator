{
 "cells": [
  {
   "cell_type": "markdown",
   "id": "6429410c",
   "metadata": {},
   "source": [
    "# Calculating $\\eta$ for octahedra with $\\eta=0,0.5,1$"
   ]
  },
  {
   "cell_type": "code",
   "execution_count": null,
   "id": "bee75d5a",
   "metadata": {},
   "outputs": [],
   "source": [
    "import os\n",
    "import pandas as pd\n",
    "from pymatgen.core.structure import Structure"
   ]
  },
  {
   "cell_type": "code",
   "execution_count": null,
   "id": "5249fe63",
   "metadata": {},
   "outputs": [],
   "source": [
    "import sys\n",
    "sys.path.insert(1,r\"..\\code\")\n",
    "from van_vleck_calculator import *"
   ]
  },
  {
   "cell_type": "markdown",
   "id": "7d158a49",
   "metadata": {},
   "source": [
    "## Import CIFs"
   ]
  },
  {
   "cell_type": "code",
   "execution_count": null,
   "id": "e774feeb",
   "metadata": {},
   "outputs": [],
   "source": [
    "filenames = [i for i in os.listdir() if \".cif\" in i]"
   ]
  },
  {
   "cell_type": "code",
   "execution_count": null,
   "id": "f63d8a2c",
   "metadata": {},
   "outputs": [],
   "source": [
    "structures = [Structure.from_file(i) for i in filenames]"
   ]
  },
  {
   "cell_type": "markdown",
   "id": "fe375e02",
   "metadata": {},
   "source": [
    "## Create octahedra"
   ]
  },
  {
   "cell_type": "code",
   "execution_count": null,
   "id": "1b00a559",
   "metadata": {},
   "outputs": [],
   "source": [
    "octahedra_objects = []\n",
    "for i in range(0,len(structures)):\n",
    "    sites = [j for j in structures[i] if \"O\" not in str(j.specie)]\n",
    "    site = sites[0]\n",
    "    local_oct = Octahedron(site,structures[i],possible_ligands=[\"O\"])\n",
    "    octahedra_objects.append(local_oct)"
   ]
  },
  {
   "cell_type": "markdown",
   "id": "e8545f53",
   "metadata": {},
   "source": [
    "## Analyse data"
   ]
  },
  {
   "cell_type": "code",
   "execution_count": null,
   "id": "f33f58d3",
   "metadata": {},
   "outputs": [],
   "source": [
    "eta_values = []\n",
    "\n",
    "for i in [0,1,2]:\n",
    "    eta = octahedra_objects[i].calculate_shear_fraction_angular_distortion(\n",
    "        specified_axes=[[1,0,0],[0,1,0],[0,0,1]],\n",
    "        automatic_rotation=False,\n",
    "        suppress_warnings=True\n",
    "    )\n",
    "    output = \"{}: {}\".format(\n",
    "        filenames[i],\n",
    "        eta\n",
    "    )\n",
    "    print(output)\n",
    "    eta_values.append(eta)"
   ]
  },
  {
   "cell_type": "code",
   "execution_count": null,
   "id": "308b5660",
   "metadata": {},
   "outputs": [],
   "source": [
    "df = pd.DataFrame(\n",
    "    {\n",
    "        \"Octahedron\":[\"A\",\"B\",\"C\"],\n",
    "        \"η\":[round(i,2) for i in eta_values]\n",
    "    }\n",
    ")"
   ]
  },
  {
   "cell_type": "code",
   "execution_count": null,
   "id": "fe3d7947",
   "metadata": {},
   "outputs": [],
   "source": [
    "df"
   ]
  },
  {
   "cell_type": "code",
   "execution_count": null,
   "id": "1edb519b",
   "metadata": {},
   "outputs": [],
   "source": []
  }
 ],
 "metadata": {
  "kernelspec": {
   "display_name": "materials-analysis",
   "language": "python",
   "name": "materials-analysis"
  },
  "language_info": {
   "codemirror_mode": {
    "name": "ipython",
    "version": 3
   },
   "file_extension": ".py",
   "mimetype": "text/x-python",
   "name": "python",
   "nbconvert_exporter": "python",
   "pygments_lexer": "ipython3",
   "version": "3.10.6"
  }
 },
 "nbformat": 4,
 "nbformat_minor": 5
}
